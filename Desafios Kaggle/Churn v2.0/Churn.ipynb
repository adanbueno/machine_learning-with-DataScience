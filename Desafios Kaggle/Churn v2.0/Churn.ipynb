{
  "nbformat": 4,
  "nbformat_minor": 0,
  "metadata": {
    "colab": {
      "name": "Churn.ipynb",
      "provenance": [],
      "collapsed_sections": [
        "jQjCOBm9yBY_",
        "B5PnBB8PJcCh"
      ]
    },
    "kernelspec": {
      "name": "python3",
      "display_name": "Python 3"
    },
    "language_info": {
      "name": "python"
    }
  },
  "cells": [
    {
      "cell_type": "markdown",
      "metadata": {
        "id": "jQjCOBm9yBY_"
      },
      "source": [
        "### Contexto\n",
        "\"Preveja o comportamento para reter clientes. Você pode analisar todos os dados relevantes do cliente e desenvolver programas focados na retenção de clientes.\" [Conjuntos de dados de amostra da IBM]\n",
        "\n",
        "### Contente\n",
        "Cada linha representa um cliente, cada coluna contém os atributos do cliente descritos na coluna Metadados.\n",
        "\n",
        "O conjunto de dados inclui informações sobre:\n",
        "\n",
        "Clientes que saíram no último mês - a coluna é chamada de rotatividade\n",
        "Serviços que cada cliente assinou - telefone, várias linhas, internet, segurança online, backup online, proteção de dispositivo, suporte técnico e streaming de TV e filmes\n",
        "Informações da conta do cliente - há quanto tempo ele é cliente, contrato, forma de pagamento, faturamento sem papel, cobranças mensais e cobranças totais\n",
        "Informações demográficas sobre clientes - sexo, faixa etária e se eles têm parceiros e dependentes\n",
        "\n",
        "Dados Kaggle: https://www.kaggle.com/blastchar/telco-customer-churn"
      ]
    },
    {
      "cell_type": "code",
      "metadata": {
        "colab": {
          "base_uri": "https://localhost:8080/"
        },
        "id": "5peZgzRVF6lv",
        "outputId": "a24e6861-c338-4e09-e302-c461af3abbef"
      },
      "source": [
        "!pip install pipelinehelper"
      ],
      "execution_count": null,
      "outputs": [
        {
          "output_type": "stream",
          "name": "stdout",
          "text": [
            "Collecting pipelinehelper\n",
            "  Downloading pipelinehelper-0.7.8-py3-none-any.whl (15 kB)\n",
            "Requirement already satisfied: sklearn in /usr/local/lib/python3.7/dist-packages (from pipelinehelper) (0.0)\n",
            "Requirement already satisfied: scikit-learn in /usr/local/lib/python3.7/dist-packages (from sklearn->pipelinehelper) (0.22.2.post1)\n",
            "Requirement already satisfied: joblib>=0.11 in /usr/local/lib/python3.7/dist-packages (from scikit-learn->sklearn->pipelinehelper) (1.0.1)\n",
            "Requirement already satisfied: numpy>=1.11.0 in /usr/local/lib/python3.7/dist-packages (from scikit-learn->sklearn->pipelinehelper) (1.19.5)\n",
            "Requirement already satisfied: scipy>=0.17.0 in /usr/local/lib/python3.7/dist-packages (from scikit-learn->sklearn->pipelinehelper) (1.4.1)\n",
            "Installing collected packages: pipelinehelper\n",
            "Successfully installed pipelinehelper-0.7.8\n"
          ]
        }
      ]
    },
    {
      "cell_type": "code",
      "metadata": {
        "id": "NTLJwrdbx-Y6"
      },
      "source": [
        "import pandas as pd \n",
        "import numpy as np \n",
        "import matplotlib.pyplot as plt \n",
        "import seaborn as sns\n",
        "sns.set()\n",
        "from pipelinehelper import PipelineHelper\n",
        "from sklearn.pipeline import Pipeline\n",
        "from sklearn import metrics\n",
        "from sklearn import pipeline\n",
        "from sklearn.preprocessing import StandardScaler \n",
        "from sklearn.preprocessing import MinMaxScaler\n",
        "from sklearn.model_selection import train_test_split \n",
        "from sklearn.tree import DecisionTreeClassifier \n",
        "from sklearn.neighbors import KNeighborsClassifier \n",
        "from sklearn.model_selection import KFold, cross_val_score, GridSearchCV\n",
        "from sklearn.linear_model import LogisticRegression \n",
        "from sklearn import svm\n",
        "from sklearn.svm import SVC \n",
        "from sklearn.ensemble import GradientBoostingClassifier\n",
        "from sklearn import naive_bayes\n",
        "from sklearn.ensemble import RandomForestClassifier \n",
        "from xgboost import XGBClassifier \n",
        "from sklearn.neural_network import MLPClassifier\n",
        "from sklearn.linear_model import Perceptron\n",
        "\n",
        "from sklearn.metrics import accuracy_score, precision_score, recall_score, classification_report\n",
        "from sklearn.metrics import f1_score \n",
        "\n",
        "import warnings\n",
        "warnings.filterwarnings('ignore')"
      ],
      "execution_count": null,
      "outputs": []
    },
    {
      "cell_type": "code",
      "metadata": {
        "id": "yxYTmnckx_jt"
      },
      "source": [
        "df = pd.read_csv('/content/Telco-Customer-Churn.csv')"
      ],
      "execution_count": null,
      "outputs": []
    },
    {
      "cell_type": "code",
      "metadata": {
        "id": "tiXvA4tFx_m2",
        "colab": {
          "base_uri": "https://localhost:8080/"
        },
        "outputId": "c963223c-0569-4fa1-ba50-85d5f1cc7347"
      },
      "source": [
        "#Visualização dos dados\n",
        "print(df.info())\n",
        "print(df.head())"
      ],
      "execution_count": null,
      "outputs": [
        {
          "output_type": "stream",
          "name": "stdout",
          "text": [
            "<class 'pandas.core.frame.DataFrame'>\n",
            "RangeIndex: 7043 entries, 0 to 7042\n",
            "Data columns (total 21 columns):\n",
            " #   Column            Non-Null Count  Dtype  \n",
            "---  ------            --------------  -----  \n",
            " 0   customerID        7043 non-null   object \n",
            " 1   gender            7043 non-null   object \n",
            " 2   SeniorCitizen     7043 non-null   int64  \n",
            " 3   Partner           7043 non-null   object \n",
            " 4   Dependents        7043 non-null   object \n",
            " 5   tenure            7043 non-null   int64  \n",
            " 6   PhoneService      7043 non-null   object \n",
            " 7   MultipleLines     7043 non-null   object \n",
            " 8   InternetService   7043 non-null   object \n",
            " 9   OnlineSecurity    7043 non-null   object \n",
            " 10  OnlineBackup      7043 non-null   object \n",
            " 11  DeviceProtection  7043 non-null   object \n",
            " 12  TechSupport       7043 non-null   object \n",
            " 13  StreamingTV       7043 non-null   object \n",
            " 14  StreamingMovies   7043 non-null   object \n",
            " 15  Contract          7043 non-null   object \n",
            " 16  PaperlessBilling  7043 non-null   object \n",
            " 17  PaymentMethod     7043 non-null   object \n",
            " 18  MonthlyCharges    7043 non-null   float64\n",
            " 19  TotalCharges      7043 non-null   object \n",
            " 20  Churn             7043 non-null   object \n",
            "dtypes: float64(1), int64(2), object(18)\n",
            "memory usage: 1.1+ MB\n",
            "None\n",
            "   customerID  gender  SeniorCitizen  ... MonthlyCharges TotalCharges  Churn\n",
            "0  7590-VHVEG  Female              0  ...          29.85        29.85     No\n",
            "1  5575-GNVDE    Male              0  ...          56.95       1889.5     No\n",
            "2  3668-QPYBK    Male              0  ...          53.85       108.15    Yes\n",
            "3  7795-CFOCW    Male              0  ...          42.30      1840.75     No\n",
            "4  9237-HQITU  Female              0  ...          70.70       151.65    Yes\n",
            "\n",
            "[5 rows x 21 columns]\n"
          ]
        }
      ]
    },
    {
      "cell_type": "code",
      "metadata": {
        "id": "Wpg-tKMtx_p1",
        "colab": {
          "base_uri": "https://localhost:8080/",
          "height": 302
        },
        "outputId": "c06240d7-95d2-43e0-c527-36332a1c6c0a"
      },
      "source": [
        "df['Churn'].value_counts()\n",
        "sns.countplot(df['Churn'])"
      ],
      "execution_count": null,
      "outputs": [
        {
          "output_type": "execute_result",
          "data": {
            "text/plain": [
              "<matplotlib.axes._subplots.AxesSubplot at 0x7fd2e9c48f50>"
            ]
          },
          "metadata": {},
          "execution_count": 5
        },
        {
          "output_type": "display_data",
          "data": {
            "image/png": "[encoded data removed]",
            "text/plain": [
              "<Figure size 432x288 with 1 Axes>"
            ]
          },
          "metadata": {
            "needs_background": "light"
          }
        }
      ]
    },
    {
      "cell_type": "code",
      "metadata": {
        "id": "yzu9e9Jhx_s_",
        "colab": {
          "base_uri": "https://localhost:8080/",
          "height": 628
        },
        "outputId": "c1bc6aa5-33be-4ebc-87de-c1e2f4722432"
      },
      "source": [
        "f, ax = plt.subplots(2,2, figsize=(10,10))\n",
        "\n",
        "sns.countplot(df['gender'], ax=ax[0,0])\n",
        "sns.countplot(df['SeniorCitizen'], ax=ax[0,1])\n",
        "sns.countplot(df['Partner'], ax=ax[1,0])\n",
        "sns.countplot(df['Dependents'], ax=ax[1,1])"
      ],
      "execution_count": null,
      "outputs": [
        {
          "output_type": "execute_result",
          "data": {
            "text/plain": [
              "<matplotlib.axes._subplots.AxesSubplot at 0x7fd2de52e7d0>"
            ]
          },
          "metadata": {},
          "execution_count": 6
        },
        {
          "output_type": "display_data",
          "data": {
            "image/png": "[encoded data removed]",
            "text/plain": [
              "<Figure size 720x720 with 4 Axes>"
            ]
          },
          "metadata": {
            "needs_background": "light"
          }
        }
      ]
    },
    {
      "cell_type": "code",
      "metadata": {
        "id": "ehI6jdZtx_vt",
        "colab": {
          "base_uri": "https://localhost:8080/",
          "height": 880
        },
        "outputId": "c41f1f79-c9d3-4be7-c3be-977ee2e9c6dc"
      },
      "source": [
        "f, ax = plt.subplots(3,3, figsize=(20,15))\n",
        "\n",
        "sns.countplot(df['PhoneService'], ax=ax[0,0])\n",
        "sns.countplot(df['MultipleLines'], ax=ax[0,1])\n",
        "sns.countplot(df['InternetService'], ax=ax[0,2])\n",
        "sns.countplot(df['OnlineBackup'], ax=ax[1,0])\n",
        "sns.countplot(df['OnlineSecurity'], ax=ax[1,1])\n",
        "sns.countplot(df['DeviceProtection'], ax=ax[1,2])\n",
        "sns.countplot(df['TechSupport'], ax=ax[2,0])\n",
        "sns.countplot(df['StreamingTV'], ax=ax[2,1])\n",
        "sns.countplot(df['StreamingMovies'], ax=ax[2,2])\n",
        "\n"
      ],
      "execution_count": null,
      "outputs": [
        {
          "output_type": "execute_result",
          "data": {
            "text/plain": [
              "<matplotlib.axes._subplots.AxesSubplot at 0x7fd2de2acf90>"
            ]
          },
          "metadata": {},
          "execution_count": 7
        },
        {
          "output_type": "display_data",
          "data": {
            "image/png": "[encoded data removed]",
            "text/plain": [
              "<Figure size 1440x1080 with 9 Axes>"
            ]
          },
          "metadata": {
            "needs_background": "light"
          }
        }
      ]
    },
    {
      "cell_type": "markdown",
      "metadata": {
        "id": "uSDmwfI64CcP"
      },
      "source": [
        "#Pré-processamento dos dados"
      ]
    },
    {
      "cell_type": "code",
      "metadata": {
        "id": "9Ehn7ZCLx_y_"
      },
      "source": [
        "#remover feature\n",
        "df.drop(['customerID'], axis=1, inplace=True)"
      ],
      "execution_count": null,
      "outputs": []
    },
    {
      "cell_type": "code",
      "metadata": {
        "id": "07fcFkgex_11",
        "colab": {
          "base_uri": "https://localhost:8080/",
          "height": 303
        },
        "outputId": "3a3deb9b-b119-42c6-c176-4594cdc9f149"
      },
      "source": [
        "#Converter algumas variaveis string para númerica\n",
        "df['TotalCharges'] = df['TotalCharges'].replace(' ', np.nan)\n",
        "df.isna().sum()\n",
        "df.dropna(inplace=True)\n",
        "\n",
        "df['TotalCharges'] = pd.to_numeric(df['TotalCharges'])\n",
        "\n",
        "sns.boxplot('Churn', 'TotalCharges', data=df)"
      ],
      "execution_count": null,
      "outputs": [
        {
          "output_type": "execute_result",
          "data": {
            "text/plain": [
              "<matplotlib.axes._subplots.AxesSubplot at 0x7f5ec2664ed0>"
            ]
          },
          "metadata": {},
          "execution_count": 9
        },
        {
          "output_type": "display_data",
          "data": {
            "image/png": "[encoded data removed]",
            "text/plain": [
              "<Figure size 432x288 with 1 Axes>"
            ]
          },
          "metadata": {}
        }
      ]
    },
    {
      "cell_type": "code",
      "metadata": {
        "id": "FQ7pVXx-x_5A",
        "colab": {
          "base_uri": "https://localhost:8080/",
          "height": 261
        },
        "outputId": "b770af76-8ad2-49ce-87fb-7c4a64470ea4"
      },
      "source": [
        "#converter as labels yes/no em 1/0\n",
        "df['Churn'].replace('Yes', 1, inplace=True)\n",
        "df['Churn'].replace('No', 0, inplace=True)\n",
        "\n",
        "df['SeniorCitizen'].replace(1, 'Yes', inplace=True)\n",
        "df['SeniorCitizen'].replace(0, 'No', inplace=True)\n",
        "\n",
        "df_onehot = pd.get_dummies(df)\n",
        "df_onehot.head()"
      ],
      "execution_count": null,
      "outputs": [
        {
          "output_type": "execute_result",
          "data": {
            "text/html": [
              "<div>\n",
              "<style scoped>\n",
              "    .dataframe tbody tr th:only-of-type {\n",
              "        vertical-align: middle;\n",
              "    }\n",
              "\n",
              "    .dataframe tbody tr th {\n",
              "        vertical-align: top;\n",
              "    }\n",
              "\n",
              "    .dataframe thead th {\n",
              "        text-align: right;\n",
              "    }\n",
              "</style>\n",
              "<table border=\"1\" class=\"dataframe\">\n",
              "  <thead>\n",
              "    <tr style=\"text-align: right;\">\n",
              "      <th></th>\n",
              "      <th>tenure</th>\n",
              "      <th>MonthlyCharges</th>\n",
              "      <th>TotalCharges</th>\n",
              "      <th>Churn</th>\n",
              "      <th>gender_Female</th>\n",
              "      <th>gender_Male</th>\n",
              "      <th>SeniorCitizen_No</th>\n",
              "      <th>SeniorCitizen_Yes</th>\n",
              "      <th>Partner_No</th>\n",
              "      <th>Partner_Yes</th>\n",
              "      <th>Dependents_No</th>\n",
              "      <th>Dependents_Yes</th>\n",
              "      <th>PhoneService_No</th>\n",
              "      <th>PhoneService_Yes</th>\n",
              "      <th>MultipleLines_No</th>\n",
              "      <th>MultipleLines_No phone service</th>\n",
              "      <th>MultipleLines_Yes</th>\n",
              "      <th>InternetService_DSL</th>\n",
              "      <th>InternetService_Fiber optic</th>\n",
              "      <th>InternetService_No</th>\n",
              "      <th>OnlineSecurity_No</th>\n",
              "      <th>OnlineSecurity_No internet service</th>\n",
              "      <th>OnlineSecurity_Yes</th>\n",
              "      <th>OnlineBackup_No</th>\n",
              "      <th>OnlineBackup_No internet service</th>\n",
              "      <th>OnlineBackup_Yes</th>\n",
              "      <th>DeviceProtection_No</th>\n",
              "      <th>DeviceProtection_No internet service</th>\n",
              "      <th>DeviceProtection_Yes</th>\n",
              "      <th>TechSupport_No</th>\n",
              "      <th>TechSupport_No internet service</th>\n",
              "      <th>TechSupport_Yes</th>\n",
              "      <th>StreamingTV_No</th>\n",
              "      <th>StreamingTV_No internet service</th>\n",
              "      <th>StreamingTV_Yes</th>\n",
              "      <th>StreamingMovies_No</th>\n",
              "      <th>StreamingMovies_No internet service</th>\n",
              "      <th>StreamingMovies_Yes</th>\n",
              "      <th>Contract_Month-to-month</th>\n",
              "      <th>Contract_One year</th>\n",
              "      <th>Contract_Two year</th>\n",
              "      <th>PaperlessBilling_No</th>\n",
              "      <th>PaperlessBilling_Yes</th>\n",
              "      <th>PaymentMethod_Bank transfer (automatic)</th>\n",
              "      <th>PaymentMethod_Credit card (automatic)</th>\n",
              "      <th>PaymentMethod_Electronic check</th>\n",
              "      <th>PaymentMethod_Mailed check</th>\n",
              "    </tr>\n",
              "  </thead>\n",
              "  <tbody>\n",
              "    <tr>\n",
              "      <th>0</th>\n",
              "      <td>1</td>\n",
              "      <td>29.85</td>\n",
              "      <td>29.85</td>\n",
              "      <td>0</td>\n",
              "      <td>1</td>\n",
              "      <td>0</td>\n",
              "      <td>1</td>\n",
              "      <td>0</td>\n",
              "      <td>0</td>\n",
              "      <td>1</td>\n",
              "      <td>1</td>\n",
              "      <td>0</td>\n",
              "      <td>1</td>\n",
              "      <td>0</td>\n",
              "      <td>0</td>\n",
              "      <td>1</td>\n",
              "      <td>0</td>\n",
              "      <td>1</td>\n",
              "      <td>0</td>\n",
              "      <td>0</td>\n",
              "      <td>1</td>\n",
              "      <td>0</td>\n",
              "      <td>0</td>\n",
              "      <td>0</td>\n",
              "      <td>0</td>\n",
              "      <td>1</td>\n",
              "      <td>1</td>\n",
              "      <td>0</td>\n",
              "      <td>0</td>\n",
              "      <td>1</td>\n",
              "      <td>0</td>\n",
              "      <td>0</td>\n",
              "      <td>1</td>\n",
              "      <td>0</td>\n",
              "      <td>0</td>\n",
              "      <td>1</td>\n",
              "      <td>0</td>\n",
              "      <td>0</td>\n",
              "      <td>1</td>\n",
              "      <td>0</td>\n",
              "      <td>0</td>\n",
              "      <td>0</td>\n",
              "      <td>1</td>\n",
              "      <td>0</td>\n",
              "      <td>0</td>\n",
              "      <td>1</td>\n",
              "      <td>0</td>\n",
              "    </tr>\n",
              "    <tr>\n",
              "      <th>1</th>\n",
              "      <td>34</td>\n",
              "      <td>56.95</td>\n",
              "      <td>1889.50</td>\n",
              "      <td>0</td>\n",
              "      <td>0</td>\n",
              "      <td>1</td>\n",
              "      <td>1</td>\n",
              "      <td>0</td>\n",
              "      <td>1</td>\n",
              "      <td>0</td>\n",
              "      <td>1</td>\n",
              "      <td>0</td>\n",
              "      <td>0</td>\n",
              "      <td>1</td>\n",
              "      <td>1</td>\n",
              "      <td>0</td>\n",
              "      <td>0</td>\n",
              "      <td>1</td>\n",
              "      <td>0</td>\n",
              "      <td>0</td>\n",
              "      <td>0</td>\n",
              "      <td>0</td>\n",
              "      <td>1</td>\n",
              "      <td>1</td>\n",
              "      <td>0</td>\n",
              "      <td>0</td>\n",
              "      <td>0</td>\n",
              "      <td>0</td>\n",
              "      <td>1</td>\n",
              "      <td>1</td>\n",
              "      <td>0</td>\n",
              "      <td>0</td>\n",
              "      <td>1</td>\n",
              "      <td>0</td>\n",
              "      <td>0</td>\n",
              "      <td>1</td>\n",
              "      <td>0</td>\n",
              "      <td>0</td>\n",
              "      <td>0</td>\n",
              "      <td>1</td>\n",
              "      <td>0</td>\n",
              "      <td>1</td>\n",
              "      <td>0</td>\n",
              "      <td>0</td>\n",
              "      <td>0</td>\n",
              "      <td>0</td>\n",
              "      <td>1</td>\n",
              "    </tr>\n",
              "    <tr>\n",
              "      <th>2</th>\n",
              "      <td>2</td>\n",
              "      <td>53.85</td>\n",
              "      <td>108.15</td>\n",
              "      <td>1</td>\n",
              "      <td>0</td>\n",
              "      <td>1</td>\n",
              "      <td>1</td>\n",
              "      <td>0</td>\n",
              "      <td>1</td>\n",
              "      <td>0</td>\n",
              "      <td>1</td>\n",
              "      <td>0</td>\n",
              "      <td>0</td>\n",
              "      <td>1</td>\n",
              "      <td>1</td>\n",
              "      <td>0</td>\n",
              "      <td>0</td>\n",
              "      <td>1</td>\n",
              "      <td>0</td>\n",
              "      <td>0</td>\n",
              "      <td>0</td>\n",
              "      <td>0</td>\n",
              "      <td>1</td>\n",
              "      <td>0</td>\n",
              "      <td>0</td>\n",
              "      <td>1</td>\n",
              "      <td>1</td>\n",
              "      <td>0</td>\n",
              "      <td>0</td>\n",
              "      <td>1</td>\n",
              "      <td>0</td>\n",
              "      <td>0</td>\n",
              "      <td>1</td>\n",
              "      <td>0</td>\n",
              "      <td>0</td>\n",
              "      <td>1</td>\n",
              "      <td>0</td>\n",
              "      <td>0</td>\n",
              "      <td>1</td>\n",
              "      <td>0</td>\n",
              "      <td>0</td>\n",
              "      <td>0</td>\n",
              "      <td>1</td>\n",
              "      <td>0</td>\n",
              "      <td>0</td>\n",
              "      <td>0</td>\n",
              "      <td>1</td>\n",
              "    </tr>\n",
              "    <tr>\n",
              "      <th>3</th>\n",
              "      <td>45</td>\n",
              "      <td>42.30</td>\n",
              "      <td>1840.75</td>\n",
              "      <td>0</td>\n",
              "      <td>0</td>\n",
              "      <td>1</td>\n",
              "      <td>1</td>\n",
              "      <td>0</td>\n",
              "      <td>1</td>\n",
              "      <td>0</td>\n",
              "      <td>1</td>\n",
              "      <td>0</td>\n",
              "      <td>1</td>\n",
              "      <td>0</td>\n",
              "      <td>0</td>\n",
              "      <td>1</td>\n",
              "      <td>0</td>\n",
              "      <td>1</td>\n",
              "      <td>0</td>\n",
              "      <td>0</td>\n",
              "      <td>0</td>\n",
              "      <td>0</td>\n",
              "      <td>1</td>\n",
              "      <td>1</td>\n",
              "      <td>0</td>\n",
              "      <td>0</td>\n",
              "      <td>0</td>\n",
              "      <td>0</td>\n",
              "      <td>1</td>\n",
              "      <td>0</td>\n",
              "      <td>0</td>\n",
              "      <td>1</td>\n",
              "      <td>1</td>\n",
              "      <td>0</td>\n",
              "      <td>0</td>\n",
              "      <td>1</td>\n",
              "      <td>0</td>\n",
              "      <td>0</td>\n",
              "      <td>0</td>\n",
              "      <td>1</td>\n",
              "      <td>0</td>\n",
              "      <td>1</td>\n",
              "      <td>0</td>\n",
              "      <td>1</td>\n",
              "      <td>0</td>\n",
              "      <td>0</td>\n",
              "      <td>0</td>\n",
              "    </tr>\n",
              "    <tr>\n",
              "      <th>4</th>\n",
              "      <td>2</td>\n",
              "      <td>70.70</td>\n",
              "      <td>151.65</td>\n",
              "      <td>1</td>\n",
              "      <td>1</td>\n",
              "      <td>0</td>\n",
              "      <td>1</td>\n",
              "      <td>0</td>\n",
              "      <td>1</td>\n",
              "      <td>0</td>\n",
              "      <td>1</td>\n",
              "      <td>0</td>\n",
              "      <td>0</td>\n",
              "      <td>1</td>\n",
              "      <td>1</td>\n",
              "      <td>0</td>\n",
              "      <td>0</td>\n",
              "      <td>0</td>\n",
              "      <td>1</td>\n",
              "      <td>0</td>\n",
              "      <td>1</td>\n",
              "      <td>0</td>\n",
              "      <td>0</td>\n",
              "      <td>1</td>\n",
              "      <td>0</td>\n",
              "      <td>0</td>\n",
              "      <td>1</td>\n",
              "      <td>0</td>\n",
              "      <td>0</td>\n",
              "      <td>1</td>\n",
              "      <td>0</td>\n",
              "      <td>0</td>\n",
              "      <td>1</td>\n",
              "      <td>0</td>\n",
              "      <td>0</td>\n",
              "      <td>1</td>\n",
              "      <td>0</td>\n",
              "      <td>0</td>\n",
              "      <td>1</td>\n",
              "      <td>0</td>\n",
              "      <td>0</td>\n",
              "      <td>0</td>\n",
              "      <td>1</td>\n",
              "      <td>0</td>\n",
              "      <td>0</td>\n",
              "      <td>1</td>\n",
              "      <td>0</td>\n",
              "    </tr>\n",
              "  </tbody>\n",
              "</table>\n",
              "</div>"
            ],
            "text/plain": [
              "   tenure  ...  PaymentMethod_Mailed check\n",
              "0       1  ...                           0\n",
              "1      34  ...                           1\n",
              "2       2  ...                           1\n",
              "3      45  ...                           0\n",
              "4       2  ...                           0\n",
              "\n",
              "[5 rows x 47 columns]"
            ]
          },
          "metadata": {},
          "execution_count": 10
        }
      ]
    },
    {
      "cell_type": "code",
      "metadata": {
        "id": "_dlZfIMIx_7i"
      },
      "source": [
        "#scaler\n",
        "scaler=MinMaxScaler()\n",
        "df_onehot['tenure'] = scaler.fit_transform(df_onehot['tenure'].values.reshape(-1,1))\n",
        "df_onehot['MonthlyCharges'] = scaler.fit_transform(df_onehot['MonthlyCharges'].values.reshape(-1,1))\n",
        "df_onehot['TotalCharges'] = scaler.fit_transform(df_onehot['TotalCharges'].values.reshape(-1,1))"
      ],
      "execution_count": null,
      "outputs": []
    },
    {
      "cell_type": "code",
      "metadata": {
        "id": "mGgTXcjoyAB_"
      },
      "source": [
        "# Split dataset\n",
        "X = df_onehot.drop(['Churn'], axis=1).values\n",
        "y = df_onehot['Churn'].values\n",
        "\n",
        "X_train, X_test, y_train, y_test = train_test_split(X, y, test_size = 0.2, random_state = 42, stratify=y)"
      ],
      "execution_count": null,
      "outputs": []
    },
    {
      "cell_type": "markdown",
      "metadata": {
        "id": "B5PnBB8PJcCh"
      },
      "source": [
        "# Contrução máquinas preditivas"
      ]
    },
    {
      "cell_type": "code",
      "metadata": {
        "id": "MItZ7kqDyAEs"
      },
      "source": [
        "columns = ['Accuracy', 'Precision', 'Recall', 'F1_Score']\n",
        "index = ['KNN', 'SVM', 'DT', 'RF','XGB', 'MLP', 'PER', 'GB']"
      ],
      "execution_count": null,
      "outputs": []
    },
    {
      "cell_type": "code",
      "metadata": {
        "id": "1UwCprq1yAIO",
        "colab": {
          "base_uri": "https://localhost:8080/",
          "height": 300
        },
        "outputId": "d49b7e3e-be28-47fe-c6d7-50476dcf0111"
      },
      "source": [
        "result = pd.DataFrame(columns=columns, index=index)\n",
        "result"
      ],
      "execution_count": null,
      "outputs": [
        {
          "output_type": "execute_result",
          "data": {
            "text/html": [
              "<div>\n",
              "<style scoped>\n",
              "    .dataframe tbody tr th:only-of-type {\n",
              "        vertical-align: middle;\n",
              "    }\n",
              "\n",
              "    .dataframe tbody tr th {\n",
              "        vertical-align: top;\n",
              "    }\n",
              "\n",
              "    .dataframe thead th {\n",
              "        text-align: right;\n",
              "    }\n",
              "</style>\n",
              "<table border=\"1\" class=\"dataframe\">\n",
              "  <thead>\n",
              "    <tr style=\"text-align: right;\">\n",
              "      <th></th>\n",
              "      <th>Accuracy</th>\n",
              "      <th>Precision</th>\n",
              "      <th>Recall</th>\n",
              "      <th>F1_Score</th>\n",
              "    </tr>\n",
              "  </thead>\n",
              "  <tbody>\n",
              "    <tr>\n",
              "      <th>KNN</th>\n",
              "      <td>NaN</td>\n",
              "      <td>NaN</td>\n",
              "      <td>NaN</td>\n",
              "      <td>NaN</td>\n",
              "    </tr>\n",
              "    <tr>\n",
              "      <th>SVM</th>\n",
              "      <td>NaN</td>\n",
              "      <td>NaN</td>\n",
              "      <td>NaN</td>\n",
              "      <td>NaN</td>\n",
              "    </tr>\n",
              "    <tr>\n",
              "      <th>DT</th>\n",
              "      <td>NaN</td>\n",
              "      <td>NaN</td>\n",
              "      <td>NaN</td>\n",
              "      <td>NaN</td>\n",
              "    </tr>\n",
              "    <tr>\n",
              "      <th>RF</th>\n",
              "      <td>NaN</td>\n",
              "      <td>NaN</td>\n",
              "      <td>NaN</td>\n",
              "      <td>NaN</td>\n",
              "    </tr>\n",
              "    <tr>\n",
              "      <th>XGB</th>\n",
              "      <td>NaN</td>\n",
              "      <td>NaN</td>\n",
              "      <td>NaN</td>\n",
              "      <td>NaN</td>\n",
              "    </tr>\n",
              "    <tr>\n",
              "      <th>MLP</th>\n",
              "      <td>NaN</td>\n",
              "      <td>NaN</td>\n",
              "      <td>NaN</td>\n",
              "      <td>NaN</td>\n",
              "    </tr>\n",
              "    <tr>\n",
              "      <th>PER</th>\n",
              "      <td>NaN</td>\n",
              "      <td>NaN</td>\n",
              "      <td>NaN</td>\n",
              "      <td>NaN</td>\n",
              "    </tr>\n",
              "    <tr>\n",
              "      <th>GB</th>\n",
              "      <td>NaN</td>\n",
              "      <td>NaN</td>\n",
              "      <td>NaN</td>\n",
              "      <td>NaN</td>\n",
              "    </tr>\n",
              "  </tbody>\n",
              "</table>\n",
              "</div>"
            ],
            "text/plain": [
              "    Accuracy Precision Recall F1_Score\n",
              "KNN      NaN       NaN    NaN      NaN\n",
              "SVM      NaN       NaN    NaN      NaN\n",
              "DT       NaN       NaN    NaN      NaN\n",
              "RF       NaN       NaN    NaN      NaN\n",
              "XGB      NaN       NaN    NaN      NaN\n",
              "MLP      NaN       NaN    NaN      NaN\n",
              "PER      NaN       NaN    NaN      NaN\n",
              "GB       NaN       NaN    NaN      NaN"
            ]
          },
          "metadata": {},
          "execution_count": 14
        }
      ]
    },
    {
      "cell_type": "code",
      "metadata": {
        "id": "DLxiD1eofvJA"
      },
      "source": [
        "#result.loc['KNN', 'Accuracy'] = accuracy_score(y_test,y_knn)\n",
        "#result.loc['KNN', 'Precision'] = precision_score(y_test,y_knn)\n",
        "#result.loc['KNN', 'Recall'] = recall_score(y_test,y_knn)\n",
        "#result.loc['KNN', 'F1_Score'] = f1_score(y_test, y_knn)"
      ],
      "execution_count": null,
      "outputs": []
    },
    {
      "cell_type": "code",
      "metadata": {
        "id": "Fv8o1qAHhCrE"
      },
      "source": [
        "#result"
      ],
      "execution_count": null,
      "outputs": []
    },
    {
      "cell_type": "markdown",
      "metadata": {
        "id": "IIz89BhgAsX8"
      },
      "source": [
        "# GridSearch"
      ]
    },
    {
      "cell_type": "markdown",
      "metadata": {
        "id": "kc-WxLixA181"
      },
      "source": [
        "### Instanciando os modelos"
      ]
    },
    {
      "cell_type": "code",
      "metadata": {
        "id": "75up7wqJAqOw"
      },
      "source": [
        "knn = KNeighborsClassifier()\n",
        "svc = svm.SVC(random_state=73)\n",
        "nb = naive_bayes.GaussianNB()\n",
        "per = Perceptron(random_state=73)\n",
        "mlp = MLPClassifier(random_state=73)\n",
        "dt = DecisionTreeClassifier(random_state=73)\n",
        "rf = RandomForestClassifier(random_state=73)\n",
        "gb = GradientBoostingClassifier(random_state=73)\n",
        "\n",
        "modelos = [knn, svc, nb, per, mlp, dt, rf, gb]"
      ],
      "execution_count": null,
      "outputs": []
    },
    {
      "cell_type": "code",
      "metadata": {
        "id": "SXsKx4zyA1X3"
      },
      "source": [
        "param_knn = {'kneighborsclassifier__n_neighbors': np.arange(1,16),\n",
        "             'kneighborsclassifier__weights':['uniform', 'distance'],\n",
        "             'kneighborsclassifier__metric': ['manhattan', 'minkowski']}\n",
        "param_svc = {'svc__C': np.logspace(-3,3,7),\n",
        "             'svc__kernel': ['rbf','sigmoid'],\n",
        "             'svc__gamma': ['scale', 'auto']}\n",
        "param_nb = {'gaussiannb__var_smoothing': [0.00000001, 0.000000001, 0.00000001]}\n",
        "\n",
        "param_per = {'perceptron__max_iter': [1000,1500,2000],\n",
        "             'perceptron__tol':np.logspace(-5,0,6),\n",
        "             'perceptron__eta0': [0.5,0.75,1]}\n",
        "\n",
        "param_mlp = {'mlpclassifier__hidden_layer_sizes': [100, 150, 175, 200],\n",
        "             'mlpclassifier__activation': ['tanh', 'relu']}\n",
        "\n",
        "param_dt = {'decisiontreeclassifier__max_depth': [3,4,5,6,8,10,12],\n",
        "            'decisiontreeclassifier__min_samples_leaf': [7,10,12,15,20]}\n",
        "\n",
        "param_rf = {'randomforestclassifier__n_estimators': [100,150,200],\n",
        "            'randomforestclassifier__max_depth': [4,5,6,7],\n",
        "            'randomforestclassifier__min_samples_leaf': [8,10,11,12]}\n",
        "\n",
        "param_gb = {'gradientboostingclassifier__learning_rate': [0.01,0.1,0.25,0.5]}\n",
        "\n",
        "params_classifier = [param_knn,param_svc,param_nb,param_per,param_mlp,param_dt,param_rf,param_gb]"
      ],
      "execution_count": null,
      "outputs": []
    },
    {
      "cell_type": "code",
      "metadata": {
        "colab": {
          "base_uri": "https://localhost:8080/"
        },
        "id": "px_Vs1l2A1at",
        "outputId": "b9e70e77-00b9-496d-a53c-0e0b5a824f57"
      },
      "source": [
        "std = StandardScaler()\n",
        "grid_results = []\n",
        "\n",
        "labels = ['KNN', 'SVC', 'NB', 'PER', 'MLP','DT', 'RF', 'GB']\n",
        "\n",
        "for model, params, label in zip(modelos, params_classifier, labels):\n",
        "  pipe = pipeline.make_pipeline(std, model)\n",
        "  gridSearch = GridSearchCV(estimator=pipe, param_grid=params, n_jobs=-1, return_train_score=False, scoring='f1_weighted', cv=5)\n",
        "  gs = gridSearch.fit(X_train,y_train)\n",
        "  print(f'Modelo: {label}')\n",
        "  print(f'Melhor F1-Score: {gs.best_score_}')\n",
        "  print(f'Melhor parâmetros: {gs.best_params_}')\n",
        "  print(\"\\n------------------------------------------------------------\\n\")\n",
        "\n",
        "  grid_resultado = {'Model': label, 'Params': gs.best_params_, 'F1-Score': gs.best_score_}\n",
        "  grid_results.append(grid_resultado)"
      ],
      "execution_count": null,
      "outputs": [
        {
          "output_type": "stream",
          "name": "stdout",
          "text": [
            "Modelo: KNN\n",
            "Melhor F1-Score: 0.7761917538425128\n",
            "Melhor parâmetros: {'kneighborsclassifier__metric': 'manhattan', 'kneighborsclassifier__n_neighbors': 15, 'kneighborsclassifier__weights': 'uniform'}\n",
            "\n",
            "------------------------------------------------------------\n",
            "\n",
            "Modelo: SVC\n",
            "Melhor F1-Score: 0.7921164070629739\n",
            "Melhor parâmetros: {'svc__C': 0.1, 'svc__gamma': 'scale', 'svc__kernel': 'sigmoid'}\n",
            "\n",
            "------------------------------------------------------------\n",
            "\n",
            "Modelo: NB\n",
            "Melhor F1-Score: 0.7178466480531811\n",
            "Melhor parâmetros: {'gaussiannb__var_smoothing': 1e-08}\n",
            "\n",
            "------------------------------------------------------------\n",
            "\n",
            "Modelo: PER\n",
            "Melhor F1-Score: 0.7421355504304381\n",
            "Melhor parâmetros: {'perceptron__eta0': 1, 'perceptron__max_iter': 1000, 'perceptron__tol': 0.1}\n",
            "\n",
            "------------------------------------------------------------\n",
            "\n",
            "Modelo: MLP\n",
            "Melhor F1-Score: 0.7731861681082549\n",
            "Melhor parâmetros: {'mlpclassifier__activation': 'relu', 'mlpclassifier__hidden_layer_sizes': 100}\n",
            "\n",
            "------------------------------------------------------------\n",
            "\n",
            "Modelo: DT\n",
            "Melhor F1-Score: 0.7859558242588863\n",
            "Melhor parâmetros: {'decisiontreeclassifier__max_depth': 12, 'decisiontreeclassifier__min_samples_leaf': 20}\n",
            "\n",
            "------------------------------------------------------------\n",
            "\n",
            "Modelo: RF\n",
            "Melhor F1-Score: 0.7913023187353485\n",
            "Melhor parâmetros: {'randomforestclassifier__max_depth': 7, 'randomforestclassifier__min_samples_leaf': 12, 'randomforestclassifier__n_estimators': 150}\n",
            "\n",
            "------------------------------------------------------------\n",
            "\n",
            "Modelo: GB\n",
            "Melhor F1-Score: 0.7933979660703789\n",
            "Melhor parâmetros: {'gradientboostingclassifier__learning_rate': 0.1}\n",
            "\n",
            "------------------------------------------------------------\n",
            "\n"
          ]
        }
      ]
    },
    {
      "cell_type": "code",
      "metadata": {
        "colab": {
          "base_uri": "https://localhost:8080/",
          "height": 183
        },
        "id": "SSjVWH91S9V8",
        "outputId": "7432d8b1-7d6f-4914-cf9a-5ee0b8374e6f"
      },
      "source": [
        "result = pd.DataFrame(grid_results).sort_values(by='F1-Score', ascending=False)\n",
        "result"
      ],
      "execution_count": null,
      "outputs": [
        {
          "output_type": "error",
          "ename": "NameError",
          "evalue": "ignored",
          "traceback": [
            "\u001b[0;31m---------------------------------------------------------------------------\u001b[0m",
            "\u001b[0;31mNameError\u001b[0m                                 Traceback (most recent call last)",
            "\u001b[0;32m<ipython-input-15-66b17088bb95>\u001b[0m in \u001b[0;36m<module>\u001b[0;34m()\u001b[0m\n\u001b[0;32m----> 1\u001b[0;31m \u001b[0mresult\u001b[0m \u001b[0;34m=\u001b[0m \u001b[0mpd\u001b[0m\u001b[0;34m.\u001b[0m\u001b[0mDataFrame\u001b[0m\u001b[0;34m(\u001b[0m\u001b[0mgrid_results\u001b[0m\u001b[0;34m)\u001b[0m\u001b[0;34m.\u001b[0m\u001b[0msort_values\u001b[0m\u001b[0;34m(\u001b[0m\u001b[0mby\u001b[0m\u001b[0;34m=\u001b[0m\u001b[0;34m'F1-Score'\u001b[0m\u001b[0;34m,\u001b[0m \u001b[0mascending\u001b[0m\u001b[0;34m=\u001b[0m\u001b[0;32mFalse\u001b[0m\u001b[0;34m)\u001b[0m\u001b[0;34m\u001b[0m\u001b[0;34m\u001b[0m\u001b[0m\n\u001b[0m\u001b[1;32m      2\u001b[0m \u001b[0mresult\u001b[0m\u001b[0;34m\u001b[0m\u001b[0;34m\u001b[0m\u001b[0m\n",
            "\u001b[0;31mNameError\u001b[0m: name 'grid_results' is not defined"
          ]
        }
      ]
    },
    {
      "cell_type": "code",
      "metadata": {
        "id": "waqcmkOWT88Y",
        "colab": {
          "base_uri": "https://localhost:8080/"
        },
        "outputId": "68297d09-66f7-4a3c-e267-2492962de436"
      },
      "source": [
        "#gb = GradientBoostingClassifier(**result['Params'][0], random_state=73)\n",
        "\n",
        "gb = GradientBoostingClassifier(learning_rate=0.1, random_state=73)\n",
        "gb.fit(X_train,y_train)\n",
        "y_pred = gb.predict(X_test)\n",
        "print(metrics.classification_report(y_test,y_pred))"
      ],
      "execution_count": 17,
      "outputs": [
        {
          "output_type": "stream",
          "name": "stdout",
          "text": [
            "              precision    recall  f1-score   support\n",
            "\n",
            "           0       0.84      0.89      0.87      1033\n",
            "           1       0.64      0.53      0.58       374\n",
            "\n",
            "    accuracy                           0.80      1407\n",
            "   macro avg       0.74      0.71      0.72      1407\n",
            "weighted avg       0.79      0.80      0.79      1407\n",
            "\n"
          ]
        }
      ]
    },
    {
      "cell_type": "markdown",
      "metadata": {
        "id": "YESoJSuzySTL"
      },
      "source": [
        "# Usando PipelineHelper"
      ]
    },
    {
      "cell_type": "code",
      "metadata": {
        "colab": {
          "base_uri": "https://localhost:8080/"
        },
        "id": "u4jFt45oyXoa",
        "outputId": "3449672b-4918-400b-9c4b-7c5f556d008b"
      },
      "source": [
        "pipe = Pipeline([\n",
        "      ('scaler', PipelineHelper([\n",
        "        ('std', StandardScaler()),\n",
        "      ])),\n",
        "      ('classifier', PipelineHelper([\n",
        "         ('knn', knn),\n",
        "         ('svc', svc),\n",
        "         ('nb', nb),\n",
        "         ('per',per),\n",
        "         ('mlp', mlp),\n",
        "         ('dt', dt),\n",
        "         ('rf', rf),\n",
        "         ('gb', gb),\n",
        "      ])),\n",
        "])\n",
        "\n",
        "params = {\n",
        "    'scaler__selected_model': pipe.named_steps['scaler'].generate({\n",
        "        'std__with_std': [True],\n",
        "    }),\n",
        "    'classifier__selected_model': pipe.named_steps['classifier'].generate({\n",
        "        'knn__n_neighbors': np.arange(1,16),\n",
        "        'knn__weights': ['uniform', 'distance'],\n",
        "        'knn__metric': ['manhattan', 'minkowski'],\n",
        "        'svc__C': np.logspace(-3,3,7),\n",
        "        'svc__kernel': ['rbf', 'sigmoid'],\n",
        "        'svc__gamma': ['scale', 'auto'],\n",
        "        'nb__var_smoothing': np.logspace(0,-9, num=100),\n",
        "        'per__max_iter': [1000,1500,2000],\n",
        "        'per__tol': np.logspace(-5,0,6),\n",
        "        'per__eta0': [0.5,0.75,1],\n",
        "        'mlp__hidden_layer_sizes': [100,150,175,200],\n",
        "        'mlp__activation':['tanh', 'relu'],\n",
        "        'dt__max_depth': [3,4,5,6,8,10,12],\n",
        "        'dt__min_samples_leaf': [7,10,12,15,20],\n",
        "        'rf__n_estimators': [100,150,200],\n",
        "        'rf__max_depth': [4,5,6,7],\n",
        "        'rf__min_samples_leaf': [8,10,11,12],\n",
        "        'gb__learning_rate': [0.01,0.1,0.25,0.5],\n",
        "        'gb__loss' : [\"deviance\"],\n",
        "        'gb__n_estimators' : [100,200,300],\n",
        "        'gb__max_depth': [4, 8],\n",
        "        'gb__min_samples_leaf': [100,150],\n",
        "        'gb__max_features': [0.3, 0.1] \n",
        "    })\n",
        "}\n",
        "\n",
        "grid = GridSearchCV(pipe, params, return_train_score=False, scoring='f1_weighted',cv=5, n_jobs=-1)\n",
        "gs = grid.fit(X_train,y_train)\n",
        "\n",
        "print(\"\\n--------------------------------\\n\")\n",
        "print(gs.best_params_)\n",
        "print(gs.best_score_)\n",
        "print(\"\\n---------------------------------\\n\")"
      ],
      "execution_count": null,
      "outputs": [
        {
          "output_type": "stream",
          "name": "stdout",
          "text": [
            "\n",
            "--------------------------------\n",
            "\n",
            "{'classifier__selected_model': ('gb', {'learning_rate': 0.1, 'loss': 'deviance', 'max_depth': 4, 'max_features': 0.3, 'min_samples_leaf': 150, 'n_estimators': 100}), 'scaler__selected_model': ('std', {'with_std': True})}\n",
            "0.7965319812567893\n",
            "\n",
            "---------------------------------\n",
            "\n"
          ]
        }
      ]
    },
    {
      "cell_type": "code",
      "metadata": {
        "colab": {
          "base_uri": "https://localhost:8080/"
        },
        "id": "5p81QkCB_MjU",
        "outputId": "e24a898c-35f2-46c0-c406-1a86f820e2fc"
      },
      "source": [
        "gb = GradientBoostingClassifier(learning_rate=0.1,loss='deviance', max_depth=4, max_features=0.3, min_samples_leaf=150, n_estimators=100 )\n",
        "gb.fit(X_train,y_train)\n",
        "y_pred = gb.predict(X_test)\n",
        "print(metrics.classification_report(y_test,y_pred))"
      ],
      "execution_count": null,
      "outputs": [
        {
          "output_type": "stream",
          "name": "stdout",
          "text": [
            "              precision    recall  f1-score   support\n",
            "\n",
            "           0       0.84      0.89      0.87      1033\n",
            "           1       0.64      0.55      0.59       374\n",
            "\n",
            "    accuracy                           0.80      1407\n",
            "   macro avg       0.74      0.72      0.73      1407\n",
            "weighted avg       0.79      0.80      0.79      1407\n",
            "\n"
          ]
        }
      ]
    },
    {
      "cell_type": "code",
      "metadata": {
        "id": "4IG78AvN_Mr6"
      },
      "source": [
        ""
      ],
      "execution_count": null,
      "outputs": []
    },
    {
      "cell_type": "code",
      "metadata": {
        "id": "2dJkm7XV_MxM"
      },
      "source": [
        ""
      ],
      "execution_count": null,
      "outputs": []
    },
    {
      "cell_type": "code",
      "metadata": {
        "id": "hllh1E14_NIu"
      },
      "source": [
        ""
      ],
      "execution_count": null,
      "outputs": []
    }
  ]
}